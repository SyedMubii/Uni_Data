{
 "cells": [
  {
   "cell_type": "code",
   "execution_count": 2,
   "id": "dab0087c",
   "metadata": {},
   "outputs": [],
   "source": [
    "# how to create a tuple\n",
    "t1 = tuple()"
   ]
  },
  {
   "cell_type": "code",
   "execution_count": 4,
   "id": "f69a0f8f",
   "metadata": {},
   "outputs": [],
   "source": [
    "t2 = (1, 2, 3, 4, 5)"
   ]
  },
  {
   "cell_type": "code",
   "execution_count": 5,
   "id": "39918291",
   "metadata": {},
   "outputs": [
    {
     "name": "stdout",
     "output_type": "stream",
     "text": [
      "(1, 2, 3, 4, 5)\n"
     ]
    }
   ],
   "source": [
    "print(t2)"
   ]
  },
  {
   "cell_type": "code",
   "execution_count": 6,
   "id": "c1b6f09c",
   "metadata": {},
   "outputs": [],
   "source": [
    "h = 10\n",
    "a = 26\n",
    "w = 78\n",
    "c = 'red'"
   ]
  },
  {
   "cell_type": "code",
   "execution_count": 7,
   "id": "73061904",
   "metadata": {},
   "outputs": [
    {
     "data": {
      "text/plain": [
       "10"
      ]
     },
     "execution_count": 7,
     "metadata": {},
     "output_type": "execute_result"
    }
   ],
   "source": [
    "h"
   ]
  },
  {
   "cell_type": "code",
   "execution_count": 8,
   "id": "6d5bf6b2",
   "metadata": {},
   "outputs": [
    {
     "data": {
      "text/plain": [
       "'red'"
      ]
     },
     "execution_count": 8,
     "metadata": {},
     "output_type": "execute_result"
    }
   ],
   "source": [
    "c"
   ]
  },
  {
   "cell_type": "code",
   "execution_count": 10,
   "id": "ffa1b371",
   "metadata": {},
   "outputs": [],
   "source": [
    "(h_, a_, w_, c_) = (10, 26, 78, 'red')"
   ]
  },
  {
   "cell_type": "code",
   "execution_count": 11,
   "id": "f9016a84",
   "metadata": {},
   "outputs": [
    {
     "data": {
      "text/plain": [
       "10"
      ]
     },
     "execution_count": 11,
     "metadata": {},
     "output_type": "execute_result"
    }
   ],
   "source": [
    "h_"
   ]
  },
  {
   "cell_type": "code",
   "execution_count": 12,
   "id": "84f677cc",
   "metadata": {},
   "outputs": [
    {
     "data": {
      "text/plain": [
       "'red'"
      ]
     },
     "execution_count": 12,
     "metadata": {},
     "output_type": "execute_result"
    }
   ],
   "source": [
    "c_"
   ]
  },
  {
   "cell_type": "code",
   "execution_count": 13,
   "id": "aa2f0f75",
   "metadata": {},
   "outputs": [],
   "source": [
    "c_ = 'blue'"
   ]
  },
  {
   "cell_type": "code",
   "execution_count": 14,
   "id": "b12a0ad5",
   "metadata": {},
   "outputs": [
    {
     "data": {
      "text/plain": [
       "'blue'"
      ]
     },
     "execution_count": 14,
     "metadata": {},
     "output_type": "execute_result"
    }
   ],
   "source": [
    "c_"
   ]
  },
  {
   "cell_type": "code",
   "execution_count": 15,
   "id": "b0e803e0",
   "metadata": {},
   "outputs": [],
   "source": [
    "my_collection_of_variables = (h, w, a, c)"
   ]
  },
  {
   "cell_type": "code",
   "execution_count": 16,
   "id": "aaba2f57",
   "metadata": {},
   "outputs": [
    {
     "data": {
      "text/plain": [
       "(10, 78, 26, 'red')"
      ]
     },
     "execution_count": 16,
     "metadata": {},
     "output_type": "execute_result"
    }
   ],
   "source": [
    "my_collection_of_variables"
   ]
  },
  {
   "cell_type": "code",
   "execution_count": 17,
   "id": "0ed30084",
   "metadata": {},
   "outputs": [],
   "source": [
    "h = 50"
   ]
  },
  {
   "cell_type": "code",
   "execution_count": 18,
   "id": "e2544bd6",
   "metadata": {},
   "outputs": [
    {
     "data": {
      "text/plain": [
       "(10, 78, 26, 'red')"
      ]
     },
     "execution_count": 18,
     "metadata": {},
     "output_type": "execute_result"
    }
   ],
   "source": [
    "my_collection_of_variables"
   ]
  },
  {
   "cell_type": "code",
   "execution_count": 19,
   "id": "91444023",
   "metadata": {},
   "outputs": [
    {
     "data": {
      "text/plain": [
       "50"
      ]
     },
     "execution_count": 19,
     "metadata": {},
     "output_type": "execute_result"
    }
   ],
   "source": [
    "h"
   ]
  },
  {
   "cell_type": "code",
   "execution_count": 20,
   "id": "81e45a33",
   "metadata": {},
   "outputs": [
    {
     "data": {
      "text/plain": [
       "False"
      ]
     },
     "execution_count": 20,
     "metadata": {},
     "output_type": "execute_result"
    }
   ],
   "source": [
    "\"holla\" < \"hello\""
   ]
  },
  {
   "cell_type": "code",
   "execution_count": 21,
   "id": "7a697be3",
   "metadata": {},
   "outputs": [],
   "source": [
    "marks = {'java': 60, 'c#': 50, 'maths': 95, 'physics': 87}"
   ]
  },
  {
   "cell_type": "code",
   "execution_count": 22,
   "id": "68ed36e1",
   "metadata": {},
   "outputs": [],
   "source": [
    "marks_items = marks.items()"
   ]
  },
  {
   "cell_type": "code",
   "execution_count": 23,
   "id": "b9275d6b",
   "metadata": {},
   "outputs": [
    {
     "data": {
      "text/plain": [
       "dict_items([('java', 60), ('c#', 50), ('maths', 95), ('physics', 87)])"
      ]
     },
     "execution_count": 23,
     "metadata": {},
     "output_type": "execute_result"
    }
   ],
   "source": [
    "marks_items"
   ]
  },
  {
   "cell_type": "code",
   "execution_count": 24,
   "id": "c10e43ea",
   "metadata": {},
   "outputs": [
    {
     "data": {
      "text/plain": [
       "[('c#', 50), ('java', 60), ('maths', 95), ('physics', 87)]"
      ]
     },
     "execution_count": 24,
     "metadata": {},
     "output_type": "execute_result"
    }
   ],
   "source": [
    "sorted(marks_items)"
   ]
  },
  {
   "cell_type": "code",
   "execution_count": 27,
   "id": "3fe50047",
   "metadata": {},
   "outputs": [
    {
     "name": "stdout",
     "output_type": "stream",
     "text": [
      "marks.items() = dict_items([('java', 60), ('c#', 50), ('maths', 95), ('physics', 87)])\n",
      "marks_items_2 = [(60, 'java'), (50, 'c#'), (95, 'maths'), (87, 'physics')]\n"
     ]
    }
   ],
   "source": [
    "marks = {'java': 60, 'c#': 50, 'maths': 95, 'physics': 87}\n",
    "marks_items = marks.items()\n",
    "print(\"marks.items() = \" + str(marks_items))\n",
    "\n",
    "marks_items_2 = list()\n",
    "\n",
    "for k, v in marks_items: \n",
    "    marks_items_2.append((v, k))\n",
    "    \n",
    "print(\"marks_items_2 = \" + str(marks_items_2))"
   ]
  },
  {
   "cell_type": "code",
   "execution_count": 31,
   "id": "9d5ad868",
   "metadata": {},
   "outputs": [
    {
     "data": {
      "text/plain": [
       "[('physics', 87), ('maths', 95), ('java', 60), ('c#', 50)]"
      ]
     },
     "execution_count": 31,
     "metadata": {},
     "output_type": "execute_result"
    }
   ],
   "source": [
    "sorted(marks_items, reverse=True)"
   ]
  },
  {
   "cell_type": "code",
   "execution_count": 30,
   "id": "a2a0e5df",
   "metadata": {},
   "outputs": [
    {
     "data": {
      "text/plain": [
       "[(95, 'maths'), (87, 'physics'), (60, 'java'), (50, 'c#')]"
      ]
     },
     "execution_count": 30,
     "metadata": {},
     "output_type": "execute_result"
    }
   ],
   "source": [
    "sorted(marks_items_2, reverse=True)"
   ]
  },
  {
   "cell_type": "code",
   "execution_count": null,
   "id": "dc450a02",
   "metadata": {},
   "outputs": [],
   "source": []
  }
 ],
 "metadata": {
  "kernelspec": {
   "display_name": "Python 3 (ipykernel)",
   "language": "python",
   "name": "python3"
  },
  "language_info": {
   "codemirror_mode": {
    "name": "ipython",
    "version": 3
   },
   "file_extension": ".py",
   "mimetype": "text/x-python",
   "name": "python",
   "nbconvert_exporter": "python",
   "pygments_lexer": "ipython3",
   "version": "3.8.8"
  }
 },
 "nbformat": 4,
 "nbformat_minor": 5
}
