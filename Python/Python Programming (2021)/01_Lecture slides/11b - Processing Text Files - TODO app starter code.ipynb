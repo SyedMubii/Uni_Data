{
 "cells": [
  {
   "cell_type": "markdown",
   "id": "ce474f09",
   "metadata": {},
   "source": [
    "## Practice exercise for 'Working with Text Files in Python'\n",
    "\n",
    "## To-do app starter code\n",
    "\n",
    "Here is the starter code for a simple to-do app in Python. \n",
    "\n",
    "* It allows the user to maintain a to-do list in a text file. \n",
    "* It repeatedly asks the user for input. If the user enters a to-do item, it is added to a 'to-do-file.txt' \n",
    "* If the user enters 'EXIT' the program ends. \n",
    "* If the user enters 'SHOW' the todo items are displayed on screen. "
   ]
  },
  {
   "cell_type": "code",
   "execution_count": 13,
   "id": "585a4682",
   "metadata": {
    "scrolled": true
   },
   "outputs": [
    {
     "name": "stdout",
     "output_type": "stream",
     "text": [
      "Enter your to-do item \n",
      " (EXIT to quit program; SHOW to display all items): EXIT\n"
     ]
    }
   ],
   "source": [
    "fh = open('to-do-file.txt', 'a')\n",
    "\n",
    "usr_inp = '' \n",
    "\n",
    "while True: \n",
    "    usr_inp = input('Enter your to-do item \\n (EXIT to quit program; SHOW to display all items): ')\n",
    "    if (usr_inp == 'EXIT'): \n",
    "        break\n",
    "    elif (usr_inp == 'SHOW'): \n",
    "        break\n",
    "    else: \n",
    "        fh.write(usr_inp + '\\n')\n",
    "\n",
    "fh.close()\n",
    "\n",
    "if (usr_inp == 'SHOW'): \n",
    "    fh = open('to-do-file.txt', 'r')\n",
    "    item_list = fh.readlines()\n",
    "    \n",
    "    print(\"\\nMy TODO items:\\n**************\")\n",
    "    for i in item_list:\n",
    "        print(i, end='')\n",
    "    fh.close()"
   ]
  },
  {
   "cell_type": "code",
   "execution_count": null,
   "id": "675b6ade",
   "metadata": {},
   "outputs": [],
   "source": []
  }
 ],
 "metadata": {
  "kernelspec": {
   "display_name": "Python 3 (ipykernel)",
   "language": "python",
   "name": "python3"
  },
  "language_info": {
   "codemirror_mode": {
    "name": "ipython",
    "version": 3
   },
   "file_extension": ".py",
   "mimetype": "text/x-python",
   "name": "python",
   "nbconvert_exporter": "python",
   "pygments_lexer": "ipython3",
   "version": "3.8.8"
  }
 },
 "nbformat": 4,
 "nbformat_minor": 5
}
