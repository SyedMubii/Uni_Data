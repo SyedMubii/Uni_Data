{
 "cells": [
  {
   "cell_type": "code",
   "execution_count": 18,
   "id": "432ae22b",
   "metadata": {},
   "outputs": [],
   "source": [
    "marks = dict()"
   ]
  },
  {
   "cell_type": "code",
   "execution_count": 19,
   "id": "4d24f63f",
   "metadata": {},
   "outputs": [],
   "source": [
    "marks['physics'] = 29\n",
    "marks['java'] = 100\n",
    "marks['c#'] = 50\n",
    "marks['maths'] = 95"
   ]
  },
  {
   "cell_type": "code",
   "execution_count": 20,
   "id": "2dab70b7",
   "metadata": {},
   "outputs": [
    {
     "name": "stdout",
     "output_type": "stream",
     "text": [
      "{'physics': 29, 'java': 100, 'c#': 50, 'maths': 95}\n"
     ]
    }
   ],
   "source": [
    "print(marks)"
   ]
  },
  {
   "cell_type": "code",
   "execution_count": 23,
   "id": "506a21cb",
   "metadata": {},
   "outputs": [],
   "source": [
    "marks_2 = { 'java': 100, 'c#': 50, 'maths': 95, 'physics': 100 }"
   ]
  },
  {
   "cell_type": "code",
   "execution_count": 22,
   "id": "1c3532a0",
   "metadata": {},
   "outputs": [
    {
     "name": "stdout",
     "output_type": "stream",
     "text": [
      "{'physics': 29, 'java': 100, 'c#': 50, 'maths': 95}\n",
      "{'java': 100, 'c#': 50, 'maths': 95, 'physics': 100}\n"
     ]
    }
   ],
   "source": [
    "print(marks)\n",
    "print(marks_2)"
   ]
  },
  {
   "cell_type": "code",
   "execution_count": 24,
   "id": "e91cfb43",
   "metadata": {},
   "outputs": [
    {
     "data": {
      "text/plain": [
       "100"
      ]
     },
     "execution_count": 24,
     "metadata": {},
     "output_type": "execute_result"
    }
   ],
   "source": [
    "marks['java']"
   ]
  },
  {
   "cell_type": "code",
   "execution_count": 25,
   "id": "06d1db99",
   "metadata": {},
   "outputs": [
    {
     "ename": "KeyError",
     "evalue": "'politics'",
     "output_type": "error",
     "traceback": [
      "\u001b[1;31m---------------------------------------------------------------------------\u001b[0m",
      "\u001b[1;31mKeyError\u001b[0m                                  Traceback (most recent call last)",
      "\u001b[1;32m~\\AppData\\Local\\Temp/ipykernel_17600/3145253726.py\u001b[0m in \u001b[0;36m<module>\u001b[1;34m\u001b[0m\n\u001b[1;32m----> 1\u001b[1;33m \u001b[0mmarks\u001b[0m\u001b[1;33m[\u001b[0m\u001b[1;34m'politics'\u001b[0m\u001b[1;33m]\u001b[0m\u001b[1;33m\u001b[0m\u001b[1;33m\u001b[0m\u001b[0m\n\u001b[0m",
      "\u001b[1;31mKeyError\u001b[0m: 'politics'"
     ]
    }
   ],
   "source": [
    "marks['politics']"
   ]
  },
  {
   "cell_type": "code",
   "execution_count": 30,
   "id": "902aced7",
   "metadata": {},
   "outputs": [
    {
     "name": "stdout",
     "output_type": "stream",
     "text": [
      "Enter some text: to be or not to be that is the question\n",
      "to be or not to be that is the question\n",
      "['to', 'be', 'or', 'not', 'to', 'be', 'that', 'is', 'the', 'question']\n",
      "{'to': 2, 'be': 2, 'or': 1, 'not': 1, 'is': 1, 'the': 1}\n"
     ]
    }
   ],
   "source": [
    "user_input = input(\"Enter some text: \")\n",
    "print(user_input)\n",
    "\n",
    "words = user_input.split()\n",
    "print(words)\n",
    "\n",
    "word_counts = dict()\n",
    "\n",
    "for wd in words: \n",
    "    if len(wd) < 4:\n",
    "        word_counts[wd] = word_counts.get(wd, 0) + 1\n",
    "    \n",
    "print(word_counts)"
   ]
  },
  {
   "cell_type": "code",
   "execution_count": 31,
   "id": "a8a0c5ea",
   "metadata": {},
   "outputs": [],
   "source": [
    "marks = { 'java': 100, 'c#': 50, 'maths': 95, 'physics': 100 }"
   ]
  },
  {
   "cell_type": "code",
   "execution_count": 32,
   "id": "86abeee0",
   "metadata": {},
   "outputs": [
    {
     "ename": "KeyError",
     "evalue": "'history'",
     "output_type": "error",
     "traceback": [
      "\u001b[1;31m---------------------------------------------------------------------------\u001b[0m",
      "\u001b[1;31mKeyError\u001b[0m                                  Traceback (most recent call last)",
      "\u001b[1;32m~\\AppData\\Local\\Temp/ipykernel_17600/766569579.py\u001b[0m in \u001b[0;36m<module>\u001b[1;34m\u001b[0m\n\u001b[1;32m----> 1\u001b[1;33m \u001b[0mmarks\u001b[0m\u001b[1;33m[\u001b[0m\u001b[1;34m'history'\u001b[0m\u001b[1;33m]\u001b[0m\u001b[1;33m\u001b[0m\u001b[1;33m\u001b[0m\u001b[0m\n\u001b[0m",
      "\u001b[1;31mKeyError\u001b[0m: 'history'"
     ]
    }
   ],
   "source": [
    "marks['history']"
   ]
  },
  {
   "cell_type": "code",
   "execution_count": 36,
   "id": "df008e38",
   "metadata": {},
   "outputs": [
    {
     "data": {
      "text/plain": [
       "100"
      ]
     },
     "execution_count": 36,
     "metadata": {},
     "output_type": "execute_result"
    }
   ],
   "source": [
    "marks.get('java', 'not found')"
   ]
  },
  {
   "cell_type": "code",
   "execution_count": 37,
   "id": "b28c7696",
   "metadata": {},
   "outputs": [
    {
     "data": {
      "text/plain": [
       "['__add__',\n",
       " '__class__',\n",
       " '__contains__',\n",
       " '__delattr__',\n",
       " '__delitem__',\n",
       " '__dir__',\n",
       " '__doc__',\n",
       " '__eq__',\n",
       " '__format__',\n",
       " '__ge__',\n",
       " '__getattribute__',\n",
       " '__getitem__',\n",
       " '__gt__',\n",
       " '__hash__',\n",
       " '__iadd__',\n",
       " '__imul__',\n",
       " '__init__',\n",
       " '__init_subclass__',\n",
       " '__iter__',\n",
       " '__le__',\n",
       " '__len__',\n",
       " '__lt__',\n",
       " '__mul__',\n",
       " '__ne__',\n",
       " '__new__',\n",
       " '__reduce__',\n",
       " '__reduce_ex__',\n",
       " '__repr__',\n",
       " '__reversed__',\n",
       " '__rmul__',\n",
       " '__setattr__',\n",
       " '__setitem__',\n",
       " '__sizeof__',\n",
       " '__str__',\n",
       " '__subclasshook__',\n",
       " 'append',\n",
       " 'clear',\n",
       " 'copy',\n",
       " 'count',\n",
       " 'extend',\n",
       " 'index',\n",
       " 'insert',\n",
       " 'pop',\n",
       " 'remove',\n",
       " 'reverse',\n",
       " 'sort']"
      ]
     },
     "execution_count": 37,
     "metadata": {},
     "output_type": "execute_result"
    }
   ],
   "source": [
    "dir(list)"
   ]
  },
  {
   "cell_type": "code",
   "execution_count": 38,
   "id": "9a4b4541",
   "metadata": {},
   "outputs": [
    {
     "data": {
      "text/plain": [
       "['__class__',\n",
       " '__contains__',\n",
       " '__delattr__',\n",
       " '__delitem__',\n",
       " '__dir__',\n",
       " '__doc__',\n",
       " '__eq__',\n",
       " '__format__',\n",
       " '__ge__',\n",
       " '__getattribute__',\n",
       " '__getitem__',\n",
       " '__gt__',\n",
       " '__hash__',\n",
       " '__init__',\n",
       " '__init_subclass__',\n",
       " '__iter__',\n",
       " '__le__',\n",
       " '__len__',\n",
       " '__lt__',\n",
       " '__ne__',\n",
       " '__new__',\n",
       " '__reduce__',\n",
       " '__reduce_ex__',\n",
       " '__repr__',\n",
       " '__reversed__',\n",
       " '__setattr__',\n",
       " '__setitem__',\n",
       " '__sizeof__',\n",
       " '__str__',\n",
       " '__subclasshook__',\n",
       " 'clear',\n",
       " 'copy',\n",
       " 'fromkeys',\n",
       " 'get',\n",
       " 'items',\n",
       " 'keys',\n",
       " 'pop',\n",
       " 'popitem',\n",
       " 'setdefault',\n",
       " 'update',\n",
       " 'values']"
      ]
     },
     "execution_count": 38,
     "metadata": {},
     "output_type": "execute_result"
    }
   ],
   "source": [
    "dir(dict)"
   ]
  },
  {
   "cell_type": "code",
   "execution_count": 39,
   "id": "6131fc58",
   "metadata": {},
   "outputs": [
    {
     "data": {
      "text/plain": [
       "{'java': 100, 'c#': 50, 'maths': 95, 'physics': 100}"
      ]
     },
     "execution_count": 39,
     "metadata": {},
     "output_type": "execute_result"
    }
   ],
   "source": [
    "marks"
   ]
  },
  {
   "cell_type": "code",
   "execution_count": 40,
   "id": "e13a8cc6",
   "metadata": {},
   "outputs": [
    {
     "data": {
      "text/plain": [
       "dict_keys(['java', 'c#', 'maths', 'physics'])"
      ]
     },
     "execution_count": 40,
     "metadata": {},
     "output_type": "execute_result"
    }
   ],
   "source": [
    "marks.keys()"
   ]
  },
  {
   "cell_type": "code",
   "execution_count": 41,
   "id": "db041df3",
   "metadata": {},
   "outputs": [
    {
     "data": {
      "text/plain": [
       "dict_values([100, 50, 95, 100])"
      ]
     },
     "execution_count": 41,
     "metadata": {},
     "output_type": "execute_result"
    }
   ],
   "source": [
    "marks.values()"
   ]
  },
  {
   "cell_type": "code",
   "execution_count": 42,
   "id": "f459d3c8",
   "metadata": {},
   "outputs": [
    {
     "data": {
      "text/plain": [
       "{'java': 100, 'c#': 50, 'maths': 95, 'physics': 100}"
      ]
     },
     "execution_count": 42,
     "metadata": {},
     "output_type": "execute_result"
    }
   ],
   "source": [
    "marks"
   ]
  },
  {
   "cell_type": "code",
   "execution_count": 44,
   "id": "4da23703",
   "metadata": {},
   "outputs": [
    {
     "data": {
      "text/plain": [
       "dict_items([('java', 100), ('c#', 50), ('maths', 95), ('physics', 100)])"
      ]
     },
     "execution_count": 44,
     "metadata": {},
     "output_type": "execute_result"
    }
   ],
   "source": [
    "marks.items()"
   ]
  },
  {
   "cell_type": "code",
   "execution_count": 45,
   "id": "d80ac5ee",
   "metadata": {},
   "outputs": [
    {
     "name": "stdout",
     "output_type": "stream",
     "text": [
      "java\n",
      "c#\n",
      "maths\n",
      "physics\n"
     ]
    }
   ],
   "source": [
    "for i in marks:\n",
    "    print(i)"
   ]
  },
  {
   "cell_type": "code",
   "execution_count": 46,
   "id": "244ae5f4",
   "metadata": {},
   "outputs": [
    {
     "data": {
      "text/plain": [
       "{'java': 100, 'c#': 50, 'maths': 95, 'physics': 100}"
      ]
     },
     "execution_count": 46,
     "metadata": {},
     "output_type": "execute_result"
    }
   ],
   "source": [
    "marks"
   ]
  },
  {
   "cell_type": "code",
   "execution_count": 52,
   "id": "db68b868",
   "metadata": {},
   "outputs": [
    {
     "name": "stdout",
     "output_type": "stream",
     "text": [
      "c# - 50\n"
     ]
    }
   ],
   "source": [
    "for k, v in marks.items():\n",
    "    if v < 80: print(k + ' - ' + str(v))"
   ]
  },
  {
   "cell_type": "code",
   "execution_count": 54,
   "id": "9b250f85",
   "metadata": {},
   "outputs": [],
   "source": [
    "marks = {'java': 60, 'c#': 50, 'maths': 95, 'physics': 87}"
   ]
  },
  {
   "cell_type": "code",
   "execution_count": 55,
   "id": "88c1a530",
   "metadata": {},
   "outputs": [
    {
     "data": {
      "text/plain": [
       "{'java': 60, 'c#': 50, 'maths': 95, 'physics': 87}"
      ]
     },
     "execution_count": 55,
     "metadata": {},
     "output_type": "execute_result"
    }
   ],
   "source": [
    "marks"
   ]
  },
  {
   "cell_type": "code",
   "execution_count": null,
   "id": "3526dd85",
   "metadata": {},
   "outputs": [],
   "source": []
  }
 ],
 "metadata": {
  "kernelspec": {
   "display_name": "Python 3 (ipykernel)",
   "language": "python",
   "name": "python3"
  },
  "language_info": {
   "codemirror_mode": {
    "name": "ipython",
    "version": 3
   },
   "file_extension": ".py",
   "mimetype": "text/x-python",
   "name": "python",
   "nbconvert_exporter": "python",
   "pygments_lexer": "ipython3",
   "version": "3.8.8"
  }
 },
 "nbformat": 4,
 "nbformat_minor": 5
}
